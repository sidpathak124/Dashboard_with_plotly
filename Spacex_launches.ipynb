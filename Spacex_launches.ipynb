{
 "cells": [
  {
   "cell_type": "code",
   "execution_count": null,
   "id": "992457a5",
   "metadata": {},
   "outputs": [],
   "source": [
    "# Import required libraries\n",
    "import pandas as pd\n",
    "import dash\n",
    "from dash import html\n",
    "from dash import dcc\n",
    "from dash.dependencies import Input, Output\n",
    "import plotly.express as px"
   ]
  },
  {
   "cell_type": "code",
   "execution_count": null,
   "id": "676c76f8",
   "metadata": {},
   "outputs": [],
   "source": [
    "# Read the airline data into pandas dataframe\n",
    "spacex_df = pd.read_csv(r\"C:\\NOT_C\\Coursera\\IBM\\capstone\\Spacex.csv\")\n",
    "spacex_df.columns = ['Date', 'Time', 'BoosterVersion', 'LaunchSite', 'Payload', 'PayloadMasskg', 'Orbit'\\\n",
    "                    , 'Customer', 'MissionOutcome', 'LandingOutcome']\n",
    "spacex_df['Class'] = spacex_df.LandingOutcome.apply(lambda x: x[:7] == 'Success')\n",
    "max_payload = spacex_df['PayloadMasskg'].max()\n",
    "min_payload = spacex_df['PayloadMasskg'].min()\n",
    "spacex_df.head()"
   ]
  },
  {
   "cell_type": "code",
   "execution_count": null,
   "id": "9b5e5dce",
   "metadata": {},
   "outputs": [],
   "source": [
    "# Create a dash application\n",
    "app = dash.Dash(__name__)"
   ]
  },
  {
   "cell_type": "code",
   "execution_count": null,
   "id": "23ac08ff",
   "metadata": {},
   "outputs": [],
   "source": [
    "# Create an app layout\n",
    "app.layout = html.Div([html.H1('SpaceX Launch Records Dashboard',\n",
    "                                        style={'textAlign': 'center', 'color': '#503D36',\n",
    "                                               'font-size': 40}),\n",
    "                                # TASK 1: Add a dropdown list to enable Launch Site selection\n",
    "                                # The default select value is for ALL sites\n",
    "                                # dcc.Dropdown(id='site-dropdown',...)\n",
    "                                html.P('Launch Site:', style={'font-size': 20}),\n",
    "                                dcc.Dropdown(id='site-dropdown', \n",
    "                                    options = [{'label':'All Sites', 'value':'All Sites'},\n",
    "                                    {'label':'CCAFS LC-40', 'value':'CCAFS LC-40'},\n",
    "                                    {'label':'VAFB SLC-4E', 'value':'VAFB SLC-4E'},\n",
    "                                    {'label':'KSC LC-39A', 'value':'KSC LC-39A'},\n",
    "                                    {'label':'CCAFS SLC-40', 'value':'CCAFS SLC-40'}],\n",
    "                                    value='All Sites',\n",
    "                                    placeholder=\"Select a Launch Site here\",\n",
    "                                    searchable=True,\n",
    "                                    style={'width':'40%'},\n",
    "                                    clearable=False),\n",
    "                                html.Br(),\n",
    "\n",
    "                                # TASK 2: Add a pie chart to show the total successful launches count for all sites\n",
    "                                # If a specific launch site was selected, show the Success vs. Failed counts for the site\n",
    "                                html.Div(dcc.Graph(id='success-pie-chart', figure={})),\n",
    "                                html.Br(),\n",
    "\n",
    "                                html.P(\"Payload Range (Kg):\", style={'font-size': 20}),\n",
    "                                # TASK 3: Add a slider to select payload range\n",
    "                                dcc.RangeSlider(id='payload-slider',min=0, max=10000,\n",
    "                                               step=1000, value=[min_payload, max_payload],\n",
    "                                               marks={i:str(i) + ' kg' for i in range(0, 11000, 1000)}),\n",
    "\n",
    "                                # TASK 4: Add a scatter chart to show the correlation between payload and launch success\n",
    "                                html.Div(dcc.Graph(id='success-payload-scatter-chart', figure={}))\n",
    "                       \n",
    "                                ])\n"
   ]
  },
  {
   "cell_type": "code",
   "execution_count": null,
   "id": "0f6ab305",
   "metadata": {},
   "outputs": [],
   "source": [
    "# TASK 2:\n",
    "# Add a callback function for `site-dropdown` as input, `success-pie-chart` as output\n",
    "@app.callback(Output(component_id='success-pie-chart', component_property='figure'),\n",
    "              Input(component_id='site-dropdown', component_property='value'))\n",
    "def get_pie_chart(entered_site):\n",
    "    filtered_df = spacex_df.copy()\n",
    "    if entered_site == 'All Sites':\n",
    "        filtered_df.loc[filtered_df['Class'] == 1]\n",
    "        fig = px.pie(filtered_df, names='LaunchSite', \n",
    "                     title='Total Successful launches from all Sites', template='plotly_dark')\n",
    "    else:        \n",
    "        def class_name(x):\n",
    "            if x == False:\n",
    "                x = 'Failed'\n",
    "            else:\n",
    "                x = 'Launched'\n",
    "            return x\n",
    "        # choose enteries of only the specific LaunchSite\n",
    "        filtered_df = filtered_df.loc[filtered_df['LaunchSite'] == entered_site]\n",
    "        \n",
    "        # Rename Class entries: False:Failed, True:Launched\n",
    "        filtered_df['Class'] = filtered_df['Class'].apply(class_name)\n",
    "        \n",
    "        fig = px.pie(filtered_df, names='Class',\n",
    "                     title='Successful launches from: ' + entered_site, template='plotly_dark')\n",
    "    return fig\n",
    "\n",
    "\n",
    "\n",
    "@app.callback(Output(component_id='success-payload-scatter-chart', component_property='figure'),\n",
    "              [Input(component_id='payload-slider', component_property='value'),\n",
    "               Input(component_id='site-dropdown', component_property='value')])\n",
    "def get_scatter_plot(payload_range, entered_site):\n",
    "    df = spacex_df.copy()\n",
    "    if entered_site == 'All Sites':\n",
    "        low, high = payload_range\n",
    "        # filter rows for a specific payload_range chosed (using the slider)\n",
    "        df = df.loc[(df['PayloadMasskg'] > low) & (df['PayloadMasskg'] < high)]\n",
    "        fig = px.scatter(df,x='PayloadMasskg', y='Class', color='BoosterVersion',  \n",
    "                         size = 'PayloadMasskg', hover_data=['PayloadMasskg'], template='plotly_dark')\n",
    "        # change yaxes tick labels\n",
    "        fig.update_yaxes(tickvals = [False, True], ticktext=['Failed', 'Launched'])\n",
    "    else:\n",
    "        low, high = payload_range\n",
    "        df = df.loc[df['LaunchSite'] == entered_site]\n",
    "        # filter rows for a specific payload_range chosed (using the slider)\n",
    "        df = df.loc[(df['PayloadMasskg'] > low) & (df['PayloadMasskg'] < high)]\n",
    "        fig = px.scatter(df,x='PayloadMasskg', y='Class', color='BoosterVersion', \n",
    "                         size = 'PayloadMasskg', hover_data=['PayloadMasskg'], template='plotly_dark')\n",
    "        # change yaxes tick labels\n",
    "        fig.update_yaxes(tickvals = [False, True], ticktext=['Failed', 'Launched'])\n",
    "        \n",
    "    return fig"
   ]
  },
  {
   "cell_type": "code",
   "execution_count": null,
   "id": "0dad9975",
   "metadata": {},
   "outputs": [],
   "source": [
    "# Run the app\n",
    "if __name__ == '__main__':\n",
    "    app.run_server(debug=False)\n"
   ]
  },
  {
   "cell_type": "code",
   "execution_count": null,
   "id": "abbf19ee",
   "metadata": {},
   "outputs": [],
   "source": []
  }
 ],
 "metadata": {
  "kernelspec": {
   "display_name": "Python 3",
   "language": "python",
   "name": "python3"
  },
  "language_info": {
   "codemirror_mode": {
    "name": "ipython",
    "version": 3
   },
   "file_extension": ".py",
   "mimetype": "text/x-python",
   "name": "python",
   "nbconvert_exporter": "python",
   "pygments_lexer": "ipython3",
   "version": "3.8.8"
  }
 },
 "nbformat": 4,
 "nbformat_minor": 5
}
