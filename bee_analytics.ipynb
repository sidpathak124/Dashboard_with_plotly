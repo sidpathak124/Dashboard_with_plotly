{
 "cells": [
  {
   "cell_type": "code",
   "execution_count": null,
   "id": "dc15ae1e",
   "metadata": {},
   "outputs": [],
   "source": [
    "import pandas as pd\n",
    "import plotly.express as px\n",
    "\n",
    "import dash\n",
    "from dash import dcc\n",
    "from dash import html\n",
    "from dash.dependencies import Input, Output\n",
    "import plotly.graph_objects as go"
   ]
  },
  {
   "cell_type": "code",
   "execution_count": null,
   "id": "597e6047",
   "metadata": {},
   "outputs": [],
   "source": [
    "app = dash.Dash(__name__)"
   ]
  },
  {
   "cell_type": "code",
   "execution_count": null,
   "id": "f6ae5181",
   "metadata": {},
   "outputs": [],
   "source": [
    "# Import data\n",
    "df = pd.read_csv(r\"C:\\NOT_C\\Coursera\\IBM\\capstone\\youtube_dash\\intro_bees.csv\")\n",
    "# df.head()"
   ]
  },
  {
   "cell_type": "code",
   "execution_count": null,
   "id": "4cfc1ee5",
   "metadata": {},
   "outputs": [],
   "source": [
    "# Clean data\n",
    "df = df.groupby(['State', 'ANSI', 'Affected by', 'Year', 'state_code'])[['Pct of Colonies Impacted']].mean()\n",
    "df.reset_index(inplace = True)\n",
    "\n",
    "# df.head()"
   ]
  },
  {
   "cell_type": "code",
   "execution_count": null,
   "id": "2207b193",
   "metadata": {},
   "outputs": [],
   "source": [
    "# App layout\n",
    "bee_killers = [\"Disease\", \"Other\", \"Pesticides\", \"Pests_excl_Varroa\", \"Unknown\", \"Varroa_mites\"]\n",
    "\n",
    "app.layout = html.Div([\n",
    "    \n",
    "    html.H1(\"Visualizing Affected Bee Colonies using Dashboards with Dash\", style={'text-align':'center'}),\n",
    "    \n",
    "    html.H3(\" 1) % of bee colonies by State: Choropleth graph and Bar graph\", style={'text-align':'left'}),\n",
    "    \n",
    "    dcc.Dropdown(\n",
    "        id='select_year',\n",
    "        options=[\n",
    "            {'label':'2015', 'value':2015},\n",
    "            {'label':'2016', 'value':2016}, # value should be represented the same way as in the source (df, db etc)\n",
    "            {'label':'2017', 'value':2017}, # here the dtype of value is int64 (same as in df)\n",
    "            {'label':'2018', 'value':2018}],\n",
    "        multi=False,\n",
    "        value=2015,\n",
    "        style={'width': '40%'}\n",
    "    ),\n",
    "    \n",
    "    html.Div(id='output_container', children=[], style={'text-align':'right'}),\n",
    "    html.Br(),\n",
    "    \n",
    "    dcc.Graph(id='my_bee_map', figure={}),\n",
    "    \n",
    "    dcc.Graph(id='my_bee_bar', figure={}),\n",
    "    html.Br(),\n",
    "    \n",
    "    html.H3(\" 2) Affect of various bee-killer variables on bee colonies: Line Graph\", {'text-align':'left'}),\n",
    "    dcc.Dropdown(\n",
    "        id='affected_by',\n",
    "        options=[{'label':x, 'value':x} for x in bee_killers],\n",
    "        multi=False,\n",
    "        value='Varroa_mites',\n",
    "        style={'width': '40%'}\n",
    "    ),\n",
    "    html.Br(),\n",
    "    dcc.Graph(id='my_bee_line', figure={})\n",
    "    \n",
    "])"
   ]
  },
  {
   "cell_type": "code",
   "execution_count": null,
   "id": "c85d4e20",
   "metadata": {},
   "outputs": [],
   "source": [
    "# Connect plotly graphs with dash components\n",
    "\n",
    "@app.callback(\n",
    "    [Output(component_id='output_container', component_property='children'),\n",
    "     Output(component_id='my_bee_map', component_property='figure'),\n",
    "     Output(component_id='my_bee_bar', component_property='figure'),\n",
    "     Output(component_id='my_bee_line', component_property='figure')],\n",
    "    [Input(component_id= 'select_year', component_property='value'),\n",
    "     Input(component_id= 'affected_by', component_property='value')]\n",
    ")\n",
    "\n",
    "def update_graph(selected_year, affected_by): # the input: component_property goes here\n",
    "    print(selected_year)\n",
    "    print(type(selected_year))\n",
    "    \n",
    "    container= 'The year chosen by user was: {}'.format(selected_year)\n",
    "    \n",
    "    # filter the df \n",
    "    dff = df.copy()              # always use a copy to process data inside the fn.\n",
    "    dff = dff[dff['Year'] == selected_year]\n",
    "    dff = dff[dff['Affected by'] == 'Varroa_mites']\n",
    "    \n",
    "    # Plotly Express\n",
    "    fig = px.choropleth(\n",
    "        data_frame=dff,\n",
    "        locationmode='USA-states',\n",
    "        locations='state_code',\n",
    "        scope=\"usa\",\n",
    "        color='Pct of Colonies Impacted',\n",
    "        hover_data=['State','Pct of Colonies Impacted'],\n",
    "        color_continuous_scale=px.colors.sequential.YlOrRd,\n",
    "        labels={'Pct of Colonies Impacted':'% of Bee Colonies'},\n",
    "        template='plotly_dark'\n",
    "    )\n",
    "    \n",
    "    fig2 = px.bar(\n",
    "        data_frame=dff,\n",
    "        x=dff['State'],\n",
    "        y=dff['Pct of Colonies Impacted'],\n",
    "        hover_data=['State','Pct of Colonies Impacted'],\n",
    "        labels={'Pct of Colonies Impacted':'% of Bee Colonies'},\n",
    "        orientation='v',\n",
    "        template='plotly_dark'\n",
    "    )\n",
    "    dff2 = df.copy()\n",
    "    dff2 = dff2[(dff2['State'] == 'Texas') | (dff2['State'] == 'New Mexico') | (dff2['State'] == 'New York')]\n",
    "    dff2 = dff2[dff2['Affected by'] == affected_by]\n",
    "    \n",
    "    fig3 = px.line(\n",
    "        data_frame=dff2,\n",
    "        x=dff2['Year'].astype('str'),\n",
    "        y=dff2['Pct of Colonies Impacted'],\n",
    "        color=dff2['State'],\n",
    "        labels={'Pct of Colonies Impacted':'% of Bee Colonies'},\n",
    "        template='plotly_dark'\n",
    "    )\n",
    "    \n",
    "    return container, fig, fig2, fig3   # return the output(s)"
   ]
  },
  {
   "cell_type": "code",
   "execution_count": null,
   "id": "1383aca7",
   "metadata": {},
   "outputs": [],
   "source": [
    "# Run the app\n",
    "if __name__ == '__main__':\n",
    "    app.run_server(debug=False)\n",
    "    "
   ]
  },
  {
   "cell_type": "code",
   "execution_count": null,
   "id": "69c9965b",
   "metadata": {},
   "outputs": [],
   "source": []
  }
 ],
 "metadata": {
  "kernelspec": {
   "display_name": "Python 3",
   "language": "python",
   "name": "python3"
  },
  "language_info": {
   "codemirror_mode": {
    "name": "ipython",
    "version": 3
   },
   "file_extension": ".py",
   "mimetype": "text/x-python",
   "name": "python",
   "nbconvert_exporter": "python",
   "pygments_lexer": "ipython3",
   "version": "3.8.8"
  }
 },
 "nbformat": 4,
 "nbformat_minor": 5
}
